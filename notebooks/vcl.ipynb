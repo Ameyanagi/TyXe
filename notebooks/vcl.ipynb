{
 "cells": [
  {
   "cell_type": "code",
   "execution_count": 1,
   "metadata": {},
   "outputs": [],
   "source": [
    "import sys\n",
    "sys.path.append(\"..\")"
   ]
  },
  {
   "cell_type": "code",
   "execution_count": 2,
   "metadata": {},
   "outputs": [],
   "source": [
    "from functools import partial\n",
    "import os\n",
    "\n",
    "from tqdm.notebook import tqdm\n",
    "\n",
    "import torch\n",
    "import torch.nn as nn\n",
    "import torch.utils.data as data\n",
    "\n",
    "from torchvision.datasets import MNIST\n",
    "import torchvision.transforms as tf\n",
    "\n",
    "import pyro\n",
    "import pyro.distributions as dist\n",
    "import pyro.infer.autoguide as ag\n",
    "\n",
    "import tyxe\n",
    "\n",
    "import matplotlib.pyplot as plt\n",
    "%matplotlib inline\n",
    "import seaborn as sns"
   ]
  },
  {
   "cell_type": "code",
   "execution_count": 3,
   "metadata": {},
   "outputs": [],
   "source": [
    "N_TASKS = 3\n",
    "TRAIN_BATCH_SIZE = 100\n",
    "TEST_BATCH_SIZE = 1000\n",
    "NUM_TEST_SAMPLES = 10\n",
    "NUM_EPOCHS = 5\n",
    "INIT_SD = 1e-1\n",
    "\n",
    "DATA_PATH = os.path.join(os.environ.get(\"DATASETS_PATH\", \"./data\"), \"mnist\")\n",
    "\n",
    "DOWNSAMPLE = False\n",
    "FLAT_SIZE = 49 if DOWNSAMPLE else 784\n",
    "IMG_SHAPE = (7, 7) if DOWNSAMPLE else (28, 28)"
   ]
  },
  {
   "cell_type": "code",
   "execution_count": 4,
   "metadata": {},
   "outputs": [],
   "source": [
    "def make_pmnist(downsample=False):\n",
    "    transforms = []\n",
    "    if downsample:\n",
    "        transforms.append(tf.Resize((7, 7)))\n",
    "    permutation = torch.randperm(784 if not downsample else 49)\n",
    "    transforms += [tf.ToTensor(), tf.Lambda(lambda x: x.flatten()[permutation])]\n",
    "    transform = tf.Compose(transforms)\n",
    "    train_set = MNIST(DATA_PATH, train=True, transform=transform, download=True)\n",
    "    train_loader = data.DataLoader(train_set, TRAIN_BATCH_SIZE, shuffle=True)\n",
    "    test_set = MNIST(DATA_PATH, train=False, transform=transform)\n",
    "    test_loader = data.DataLoader(test_set, TEST_BATCH_SIZE)\n",
    "    \n",
    "    return train_loader, test_loader, permutation"
   ]
  },
  {
   "cell_type": "code",
   "execution_count": 5,
   "metadata": {},
   "outputs": [],
   "source": [
    "train_loader, test_loader, permutation = make_pmnist(DOWNSAMPLE)"
   ]
  },
  {
   "cell_type": "code",
   "execution_count": 6,
   "metadata": {},
   "outputs": [
    {
     "data": {
      "text/plain": [
       "<matplotlib.image.AxesImage at 0x7ff930f9bd60>"
      ]
     },
     "execution_count": 6,
     "metadata": {},
     "output_type": "execute_result"
    },
    {
     "data": {
      "image/png": "[encoded data removed]",
      "text/plain": [
       "<Figure size 936x288 with 2 Axes>"
      ]
     },
     "metadata": {
      "needs_background": "light"
     },
     "output_type": "display_data"
    }
   ],
   "source": [
    "inv_perm = torch.empty(FLAT_SIZE).long()\n",
    "inv_perm[permutation] = torch.arange(FLAT_SIZE)\n",
    "imgs, _ = next(iter(test_loader))\n",
    "\n",
    "f, (ax1, ax2) = plt.subplots(1, 2, figsize=(13, 4))\n",
    "ax1.imshow(imgs[0].view(IMG_SHAPE), cmap=\"gray\")\n",
    "ax2.imshow(imgs[0][inv_perm].view(IMG_SHAPE), cmap=\"gray\")"
   ]
  },
  {
   "cell_type": "code",
   "execution_count": 7,
   "metadata": {},
   "outputs": [],
   "source": [
    "def make_net():\n",
    "    return nn.Sequential(\n",
    "        nn.Linear(FLAT_SIZE, 100), nn.ReLU(inplace=True),\n",
    "        nn.Linear(100, 100), nn.ReLU(inplace=True),\n",
    "        nn.Linear(100, 10))"
   ]
  },
  {
   "cell_type": "code",
   "execution_count": 8,
   "metadata": {},
   "outputs": [],
   "source": [
    "observation_model = tyxe.observation_models.Categorical(len(train_loader.sampler))\n",
    "prior = tyxe.priors.IIDPrior(dist.Normal(0, 1))\n",
    "var_bnn = tyxe.VariationalBNN(make_net(), prior, observation_model,\n",
    "                              net_guide_builder=partial(tyxe.guides.ParameterwiseDiagonalNormal,\n",
    "                                                        init_loc_fn=tyxe.guides.init_to_normal_radford,\n",
    "                                                        init_scale=INIT_SD)\n",
    "                             )"
   ]
  },
  {
   "cell_type": "code",
   "execution_count": 9,
   "metadata": {},
   "outputs": [],
   "source": [
    "train_loaders, test_loaders, _ = zip(*[make_pmnist(DOWNSAMPLE) for _ in range(N_TASKS)])"
   ]
  },
  {
   "cell_type": "code",
   "execution_count": 10,
   "metadata": {},
   "outputs": [],
   "source": [
    "def train(bnn, train_loader, optim=None, local_reparam=True):\n",
    "    if optim is None:\n",
    "        optim = pyro.optim.Adam({\"lr\": 1e-3})\n",
    "    \n",
    "    tq = tqdm(total=NUM_EPOCHS)\n",
    "    def callback(*args):\n",
    "        tq.update()\n",
    "    \n",
    "    if local_reparam:\n",
    "        with tyxe.poutine.local_reparameterization():\n",
    "            bnn.fit(train_loader, optim, NUM_EPOCHS, callback=callback)\n",
    "    else:\n",
    "        bnn.fit(train_loader, optim, NUM_EPOCHS, callback=callback)"
   ]
  },
  {
   "cell_type": "code",
   "execution_count": 11,
   "metadata": {},
   "outputs": [],
   "source": [
    "def test(bnn, test_loader):\n",
    "    return sum(bnn.evaluate(x, y, NUM_TEST_SAMPLES)[0] for x, y in iter(test_loader)) / len(test_loader.sampler)"
   ]
  },
  {
   "cell_type": "code",
   "execution_count": 12,
   "metadata": {},
   "outputs": [],
   "source": [
    "def full_run(bnn, train_loaders, test_loaders, callback=None, local_reparam=True):\n",
    "    pyro.clear_param_store()\n",
    "    test_errs = torch.zeros(len(train_loaders), len(train_loaders))\n",
    "    for i in range(len(train_loaders)):\n",
    "        train(bnn, train_loaders[i], local_reparam=local_reparam)\n",
    "        for j in range(i+1):\n",
    "            test_errs[j, i] = test(bnn, test_loaders[j]).item()\n",
    "        \n",
    "        if callback is not None:\n",
    "            callback(bnn)\n",
    "            \n",
    "    return test_errs"
   ]
  },
  {
   "cell_type": "code",
   "execution_count": 13,
   "metadata": {},
   "outputs": [
    {
     "data": {
      "application/vnd.jupyter.widget-view+json": {
       "model_id": "ccf0e43d69da4ba582ba594295af6ff1",
       "version_major": 2,
       "version_minor": 0
      },
      "text/plain": [
       "HBox(children=(FloatProgress(value=0.0, max=5.0), HTML(value='')))"
      ]
     },
     "metadata": {},
     "output_type": "display_data"
    },
    {
     "name": "stdout",
     "output_type": "stream",
     "text": [
      "\n"
     ]
    },
    {
     "data": {
      "application/vnd.jupyter.widget-view+json": {
       "model_id": "c9caf5a5dfe743f09af92c0670c613ad",
       "version_major": 2,
       "version_minor": 0
      },
      "text/plain": [
       "HBox(children=(FloatProgress(value=0.0, max=5.0), HTML(value='')))"
      ]
     },
     "metadata": {},
     "output_type": "display_data"
    },
    {
     "name": "stdout",
     "output_type": "stream",
     "text": [
      "\n"
     ]
    },
    {
     "data": {
      "application/vnd.jupyter.widget-view+json": {
       "model_id": "298ad25cfe384943937d0443cb7bf1ff",
       "version_major": 2,
       "version_minor": 0
      },
      "text/plain": [
       "HBox(children=(FloatProgress(value=0.0, max=5.0), HTML(value='')))"
      ]
     },
     "metadata": {},
     "output_type": "display_data"
    },
    {
     "name": "stdout",
     "output_type": "stream",
     "text": [
      "\n"
     ]
    },
    {
     "data": {
      "text/plain": [
       "tensor([[0.0412, 0.1591, 0.4069],\n",
       "        [0.0000, 0.0769, 0.1486],\n",
       "        [0.0000, 0.0000, 0.0654]])"
      ]
     },
     "execution_count": 13,
     "metadata": {},
     "output_type": "execute_result"
    }
   ],
   "source": [
    "var_errs = full_run(var_bnn, train_loaders, test_loaders,\n",
    "                    lambda bnn: bnn.update_prior(tyxe.priors.DictPrior(\n",
    "                        bnn.net_guide.get_detached_distributions(tyxe.util.pyro_sample_sites(bnn.net)))))\n",
    "var_errs"
   ]
  },
  {
   "cell_type": "code",
   "execution_count": 14,
   "metadata": {},
   "outputs": [],
   "source": [
    "def plot(errs):\n",
    "    for task_id, e in enumerate(errs):\n",
    "        plt.plot(range(task_id, len(e)), e[task_id:], marker=\"o\", label=f\"Task {task_id}\")\n",
    "    plt.xlabel(\"TASK\")\n",
    "    plt.xticks(range(len(errs)))\n",
    "    plt.ylabel(\"test error\")\n",
    "    plt.ylim(0, 1)\n",
    "    plt.legend()"
   ]
  },
  {
   "cell_type": "code",
   "execution_count": 15,
   "metadata": {},
   "outputs": [
    {
     "data": {
      "image/png": "[encoded data removed]",
      "text/plain": [
       "<Figure size 432x288 with 1 Axes>"
      ]
     },
     "metadata": {
      "needs_background": "light"
     },
     "output_type": "display_data"
    }
   ],
   "source": [
    "plot(var_errs)"
   ]
  },
  {
   "cell_type": "code",
   "execution_count": 16,
   "metadata": {},
   "outputs": [
    {
     "data": {
      "application/vnd.jupyter.widget-view+json": {
       "model_id": "b1213c1a1e744f6cace60c149951ee20",
       "version_major": 2,
       "version_minor": 0
      },
      "text/plain": [
       "HBox(children=(FloatProgress(value=0.0, max=5.0), HTML(value='')))"
      ]
     },
     "metadata": {},
     "output_type": "display_data"
    },
    {
     "name": "stdout",
     "output_type": "stream",
     "text": [
      "\n"
     ]
    },
    {
     "data": {
      "application/vnd.jupyter.widget-view+json": {
       "model_id": "99e294c615004b0cbe0c04bb85fde6e3",
       "version_major": 2,
       "version_minor": 0
      },
      "text/plain": [
       "HBox(children=(FloatProgress(value=0.0, max=5.0), HTML(value='')))"
      ]
     },
     "metadata": {},
     "output_type": "display_data"
    },
    {
     "name": "stdout",
     "output_type": "stream",
     "text": [
      "\n"
     ]
    },
    {
     "data": {
      "application/vnd.jupyter.widget-view+json": {
       "model_id": "05834e58ae8543b4a80409fa34208463",
       "version_major": 2,
       "version_minor": 0
      },
      "text/plain": [
       "HBox(children=(FloatProgress(value=0.0, max=5.0), HTML(value='')))"
      ]
     },
     "metadata": {},
     "output_type": "display_data"
    },
    {
     "name": "stdout",
     "output_type": "stream",
     "text": [
      "\n"
     ]
    }
   ],
   "source": [
    "pyro.clear_param_store()\n",
    "det_bnn = tyxe.VariationalBNN(make_net(), prior, observation_model, net_guide_builder=ag.AutoDelta)\n",
    "det_errs = full_run(det_bnn, train_loaders, test_loaders, local_reparam=False)"
   ]
  },
  {
   "cell_type": "code",
   "execution_count": 17,
   "metadata": {},
   "outputs": [
    {
     "data": {
      "image/png": "[encoded data removed]",
      "text/plain": [
       "<Figure size 432x288 with 1 Axes>"
      ]
     },
     "metadata": {
      "needs_background": "light"
     },
     "output_type": "display_data"
    }
   ],
   "source": [
    "plot(det_errs)"
   ]
  },
  {
   "cell_type": "code",
   "execution_count": 18,
   "metadata": {},
   "outputs": [],
   "source": [
    "def avg(errs):\n",
    "    return errs.sum(0) / errs.gt(0.).float().sum(0)"
   ]
  },
  {
   "cell_type": "code",
   "execution_count": 19,
   "metadata": {},
   "outputs": [
    {
     "data": {
      "text/plain": [
       "<matplotlib.legend.Legend at 0x7ff92070e8b0>"
      ]
     },
     "execution_count": 19,
     "metadata": {},
     "output_type": "execute_result"
    },
    {
     "data": {
      "image/png": "[encoded data removed]",
      "text/plain": [
       "<Figure size 432x288 with 1 Axes>"
      ]
     },
     "metadata": {
      "needs_background": "light"
     },
     "output_type": "display_data"
    }
   ],
   "source": [
    "plt.plot(range(1, N_TASKS+1), avg(var_errs), marker=\"o\", label=\"VCL\")\n",
    "plt.plot(range(1, N_TASKS+1), avg(det_errs), marker=\"o\", label=\"MAP\")\n",
    "plt.xlabel(\"TASK\")\n",
    "plt.ylabel(\"average test error\")\n",
    "plt.legend()"
   ]
  },
  {
   "cell_type": "code",
   "execution_count": null,
   "metadata": {},
   "outputs": [],
   "source": []
  }
 ],
 "metadata": {
  "kernelspec": {
   "display_name": "Python 3",
   "language": "python",
   "name": "python3"
  },
  "language_info": {
   "codemirror_mode": {
    "name": "ipython",
    "version": 3
   },
   "file_extension": ".py",
   "mimetype": "text/x-python",
   "name": "python",
   "nbconvert_exporter": "python",
   "pygments_lexer": "ipython3",
   "version": "3.8.5"
  }
 },
 "nbformat": 4,
 "nbformat_minor": 2
}
